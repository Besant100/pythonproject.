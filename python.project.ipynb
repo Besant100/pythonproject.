{
 "cells": [
  {
   "cell_type": "markdown",
   "metadata": {},
   "source": [
    "project"
   ]
  },
  {
   "cell_type": "code",
   "execution_count": null,
   "metadata": {},
   "outputs": [],
   "source": [
    "player = input('Na epo game vedalam soli iruka? ')\n",
    "\n",
    "if player != 'yes':\n",
    "    quit()\n",
    "\n",
    "print(' ok vedam epo')\n",
    "\n",
    "question = input(\"How many days are there in a week?\")\n",
    "\n",
    "if question.lower() == '7':\n",
    "    print ('correct')\n",
    "    score=0\n",
    "    \n",
    "elif question == (\"I Don't No!!!\"):\n",
    "    print ('tharila')\n",
    "\n",
    "else:\n",
    "    print('incorrect')    \n",
    "\n",
    "question = input('How many letters are there in the English alphabet?')\n",
    "\n",
    "if question.lower() == '26':\n",
    "    print ('correct')\n",
    "    score +=5\n",
    "    \n",
    "elif question == (\"24 !!!\"):\n",
    "    print ('tharila')\n",
    "\n",
    "else:\n",
    "    print('incorrect') \n",
    "\n",
    "question = input('How many days are there in a year?')\n",
    "\n",
    "if question.lower() == ' 365 ':\n",
    "    print ('correct')\n",
    "    score +=10\n",
    "    \n",
    "elif question == (\"120 days\"):\n",
    "    print ('super')\n",
    "\n",
    "else:\n",
    "    print('incorrect') \n",
    "\n",
    "question = input('Name the National bird of India?')\n",
    "\n",
    "if question.lower() == ('Peacock'):\n",
    "    print ('correct')\n",
    "    score +=15\n",
    "    \n",
    "elif question == (\"I don't know\"):\n",
    "    print ('tharila')\n",
    "\n",
    "else:\n",
    "    print('incorrect') \n",
    "\n",
    "print(\" unga score vandu \" + str ( score ) )\n",
    "\n",
    "\n"
   ]
  }
 ],
 "metadata": {
  "kernelspec": {
   "display_name": "Python 3",
   "language": "python",
   "name": "python3"
  },
  "language_info": {
   "codemirror_mode": {
    "name": "ipython",
    "version": 3
   },
   "file_extension": ".py",
   "mimetype": "text/x-python",
   "name": "python",
   "nbconvert_exporter": "python",
   "pygments_lexer": "ipython3",
   "version": "3.13.0"
  }
 },
 "nbformat": 4,
 "nbformat_minor": 2
}
